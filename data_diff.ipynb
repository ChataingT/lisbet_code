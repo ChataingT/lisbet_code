{
 "cells": [
  {
   "cell_type": "code",
   "execution_count": 21,
   "metadata": {},
   "outputs": [],
   "source": [
    "import os\n",
    "from zipfile import ZipFile \n"
   ]
  },
  {
   "cell_type": "code",
   "execution_count": 22,
   "metadata": {},
   "outputs": [],
   "source": [
    "root = r\"/Users/tchataing/Downloads/data_all\""
   ]
  },
  {
   "cell_type": "code",
   "execution_count": 24,
   "metadata": {},
   "outputs": [
    {
     "name": "stdout",
     "output_type": "stream",
     "text": [
      "/Users/tchataing/Downloads/data_all/brca-n_33/20240605-173925_expR_diffnaps_db_brca-n_a0.zip\n",
      "/Users/tchataing/Downloads/data_all/brca-n_33/20240605-174034_expR_bc_db_brca-n_a600.zip\n",
      "/Users/tchataing/Downloads/data_all/brca-n_33/20240605-173840_expR_binaps_db_brca-n_a0.zip\n",
      "/Users/tchataing/Downloads/data_all/brca-n_32/20240605-171706_expR_binaps_db_brca-n_a0.zip\n",
      "/Users/tchataing/Downloads/data_all/brca-n_32/20240605-171751_expR_diffnaps_db_brca-n_a0.zip\n",
      "/Users/tchataing/Downloads/data_all/brca-n_32/20240605-171900_expR_bc_db_brca-n_a600.zip\n",
      "/Users/tchataing/Downloads/data_all/disease_8/20240606-125221_expR_diffnaps_db_disease_a0.zip\n",
      "/Users/tchataing/Downloads/data_all/disease_8/20240606-125509_expR_bc_db_disease_a600.zip\n",
      "/Users/tchataing/Downloads/data_all/disease_8/20240606-125045_expR_binaps_db_disease_a0.zip\n",
      "/Users/tchataing/Downloads/data_all/brca-s_33/20240606-083609_expR_binaps_db_brca-s_a0.zip\n",
      "/Users/tchataing/Downloads/data_all/brca-s_33/20240606-083821_expR_diffnaps_db_brca-s_a0.zip\n",
      "/Users/tchataing/Downloads/data_all/brca-s_33/20240606-084150_expR_bc_db_brca-s_a600.zip\n",
      "/Users/tchataing/Downloads/data_all/disease_33/20240606-124022_expR_binaps_db_disease_a0.zip\n",
      "/Users/tchataing/Downloads/data_all/disease_33/20240606-124200_expR_diffnaps_db_disease_a0.zip\n",
      "/Users/tchataing/Downloads/data_all/disease_33/20240606-124441_expR_bc_db_disease_a600.zip\n",
      "/Users/tchataing/Downloads/data_all/brca-s_32/20240606-062122_expR_binaps_db_brca-s_a0.zip\n",
      "/Users/tchataing/Downloads/data_all/brca-s_32/20240606-062333_expR_diffnaps_db_brca-s_a0.zip\n",
      "/Users/tchataing/Downloads/data_all/brca-s_32/20240605-175835_expR_bc_db_brca-s_a600.zip\n",
      "/Users/tchataing/Downloads/data_all/brca-s_32/20240605-175252_expR_binaps_db_brca-s_a0.zip\n",
      "/Users/tchataing/Downloads/data_all/brca-s_32/20240605-175503_expR_diffnaps_db_brca-s_a0.zip\n",
      "/Users/tchataing/Downloads/data_all/brca-s_32/20240606-062703_expR_bc_db_brca-s_a600.zip\n",
      "/Users/tchataing/Downloads/data_all/disease_32/20240606-120824_expR_binaps_db_disease_a0.zip\n",
      "/Users/tchataing/Downloads/data_all/disease_32/20240604-125445_expR_diffnaps_db_disease_a0.zip\n",
      "/Users/tchataing/Downloads/data_all/disease_32/20240606-120957_expR_diffnaps_db_disease_a0.zip\n",
      "/Users/tchataing/Downloads/data_all/disease_32/20240604-125343_expR_binaps_db_disease_a0.zip\n",
      "/Users/tchataing/Downloads/data_all/disease_32/20240604-102915_expR_diffnaps_db_disease_a0.zip\n",
      "/Users/tchataing/Downloads/data_all/disease_32/20240602-211235_expR_binaps_db_disease_a0.zip\n",
      "/Users/tchataing/Downloads/data_all/disease_32/20240604-102748_expR_binaps_db_disease_a0.zip\n",
      "/Users/tchataing/Downloads/data_all/disease_32/20240606-121245_expR_bc_db_disease_a600.zip\n",
      "/Users/tchataing/Downloads/data_all/disease_32/20240605-170450_expR_bc_db_disease_a600.zip\n",
      "/Users/tchataing/Downloads/data_all/disease_32/20240605-170039_expR_binaps_db_disease_a0.zip\n",
      "/Users/tchataing/Downloads/data_all/disease_32/20240605-170214_expR_diffnaps_db_disease_a0.zip\n",
      "/Users/tchataing/Downloads/data_all/disease_32/20240602-211340_expR_diffnaps_db_disease_a0.zip\n",
      "/Users/tchataing/Downloads/data_all/disease_45/20240606-121917_expR_binaps_db_disease_a0.zip\n",
      "/Users/tchataing/Downloads/data_all/disease_45/20240606-122048_expR_diffnaps_db_disease_a0.zip\n",
      "/Users/tchataing/Downloads/data_all/disease_45/20240606-122340_expR_bc_db_disease_a600.zip\n",
      "/Users/tchataing/Downloads/data_all/brca-s_45/20240606-070629_expR_binaps_db_brca-s_a0.zip\n",
      "/Users/tchataing/Downloads/data_all/brca-s_45/20240606-070841_expR_diffnaps_db_brca-s_a0.zip\n",
      "/Users/tchataing/Downloads/data_all/brca-s_45/20240605-183802_expR_binaps_db_brca-s_a0.zip\n",
      "/Users/tchataing/Downloads/data_all/brca-s_45/20240605-184015_expR_diffnaps_db_brca-s_a0.zip\n",
      "/Users/tchataing/Downloads/data_all/brca-s_45/20240605-184346_expR_bc_db_brca-s_a600.zip\n",
      "/Users/tchataing/Downloads/data_all/brca-s_45/20240606-071210_expR_bc_db_brca-s_a600.zip\n",
      "/Users/tchataing/Downloads/data_all/cardio_22/20240606-105424_expR_diffnaps_db_cardio_a0.zip\n",
      "/Users/tchataing/Downloads/data_all/cardio_22/20240606-110053_expR_bc_db_cardio_a600.zip\n",
      "/Users/tchataing/Downloads/data_all/cardio_22/20240606-104748_expR_binaps_db_cardio_a0.zip\n",
      "/Users/tchataing/Downloads/data_all/brca-s_8/20240606-092331_expR_diffnaps_db_brca-s_a0.zip\n",
      "/Users/tchataing/Downloads/data_all/brca-s_8/20240606-142937_expR_diffnaps_db_brca-s_a0.zip\n",
      "/Users/tchataing/Downloads/data_all/brca-s_8/20240606-143303_expR_bc_db_brca-s_a600.zip\n",
      "/Users/tchataing/Downloads/data_all/brca-s_8/20240606-142722_expR_binaps_db_brca-s_a0.zip\n",
      "/Users/tchataing/Downloads/data_all/brca-s_8/20240606-092117_expR_binaps_db_brca-s_a0.zip\n",
      "/Users/tchataing/Downloads/data_all/brca-n_45/20240605-172617_expR_bc_db_brca-n_a600.zip\n",
      "/Users/tchataing/Downloads/data_all/brca-n_45/20240605-172508_expR_diffnaps_db_brca-n_a0.zip\n",
      "/Users/tchataing/Downloads/data_all/brca-n_45/20240605-172422_expR_binaps_db_brca-n_a0.zip\n",
      "/Users/tchataing/Downloads/data_all/cardio_33/20240606-111524_expR_binaps_db_cardio_a0.zip\n",
      "/Users/tchataing/Downloads/data_all/cardio_33/20240606-112821_expR_bc_db_cardio_a600.zip\n",
      "/Users/tchataing/Downloads/data_all/cardio_33/20240606-112148_expR_diffnaps_db_cardio_a0.zip\n",
      "/Users/tchataing/Downloads/data_all/cardio_32/20240606-095445_expR_binaps_db_cardio_a0.zip\n",
      "/Users/tchataing/Downloads/data_all/cardio_32/20240606-100047_expR_diffnaps_db_cardio_a0.zip\n",
      "/Users/tchataing/Downloads/data_all/cardio_32/20240606-100653_expR_bc_db_cardio_a600.zip\n",
      "/Users/tchataing/Downloads/data_all/brca-n_8/20240605-174548_expR_binaps_db_brca-n_a0.zip\n",
      "/Users/tchataing/Downloads/data_all/brca-n_8/20240605-174634_expR_diffnaps_db_brca-n_a0.zip\n",
      "/Users/tchataing/Downloads/data_all/brca-n_8/20240605-174742_expR_bc_db_brca-n_a600.zip\n",
      "/Users/tchataing/Downloads/data_all/disease_22/20240606-123419_expR_bc_db_disease_a600.zip\n",
      "/Users/tchataing/Downloads/data_all/disease_22/20240606-123138_expR_diffnaps_db_disease_a0.zip\n",
      "/Users/tchataing/Downloads/data_all/disease_22/20240606-123009_expR_binaps_db_disease_a0.zip\n",
      "/Users/tchataing/Downloads/data_all/brca-s_22/20240605-192304_expR_binaps_db_brca-s_a0.zip\n",
      "/Users/tchataing/Downloads/data_all/brca-s_22/20240605-192516_expR_diffnaps_db_brca-s_a0.zip\n",
      "/Users/tchataing/Downloads/data_all/brca-s_22/20240606-075639_expR_bc_db_brca-s_a600.zip\n",
      "/Users/tchataing/Downloads/data_all/brca-s_22/20240606-075320_expR_diffnaps_db_brca-s_a0.zip\n",
      "/Users/tchataing/Downloads/data_all/brca-s_22/20240606-075109_expR_binaps_db_brca-s_a0.zip\n",
      "/Users/tchataing/Downloads/data_all/cardio_8/20240606-114316_expR_binaps_db_cardio_a0.zip\n",
      "/Users/tchataing/Downloads/data_all/cardio_8/20240606-114945_expR_diffnaps_db_cardio_a0.zip\n",
      "/Users/tchataing/Downloads/data_all/cardio_8/20240606-115539_expR_bc_db_cardio_a600.zip\n",
      "/Users/tchataing/Downloads/data_all/brca-n_22/20240605-173330_expR_bc_db_brca-n_a600.zip\n",
      "/Users/tchataing/Downloads/data_all/brca-n_22/20240605-173222_expR_diffnaps_db_brca-n_a0.zip\n",
      "/Users/tchataing/Downloads/data_all/brca-n_22/20240605-173137_expR_binaps_db_brca-n_a0.zip\n",
      "/Users/tchataing/Downloads/data_all/cardio_45/20240606-103247_expR_bc_db_cardio_a600.zip\n",
      "/Users/tchataing/Downloads/data_all/cardio_45/20240606-102707_expR_diffnaps_db_cardio_a0.zip\n",
      "/Users/tchataing/Downloads/data_all/cardio_45/20240606-102033_expR_binaps_db_cardio_a0.zip\n"
     ]
    }
   ],
   "source": [
    "for r,d,f in os.walk(root):\n",
    "    for file in f:\n",
    "        if file.endswith(\"zip\"):\n",
    "            zipf = os.path.join(r,file)\n",
    "            print(zipf)\n",
    "\n",
    "              \n",
    "            # loading the temp.zip and creating a zip object \n",
    "            with ZipFile(zipf, 'r') as zObject: \n",
    "                for zz in zObject.filelist:\n",
    "                    if zz.filename.endswith(\"pt\"):\n",
    "                        continue\n",
    "                    elif zz.filename.endswith(\"npy\"):\n",
    "                        continue\n",
    "                    else:\n",
    "                        zObject.extract(zz, path=zipf[:-4])\n",
    "                # Extracting all the members of the zip  \n",
    "                # into a specific location. \n",
    "                #zObject.extractall(path=zipf[:-4]) \n",
    "            "
   ]
  },
  {
   "cell_type": "code",
   "execution_count": null,
   "metadata": {},
   "outputs": [],
   "source": [
    "\n",
    "# importing the zipfile module \n",
    "  \n",
    "# loading the temp.zip and creating a zip object \n",
    "with ZipFile(\"C:\\\\Users\\\\sai mohan pulamolu\\\\\\ \n",
    "            Desktop\\\\geeks_dir\\\\temp\\\\temp.zip\", 'r') as zObject: \n",
    "  \n",
    "    # Extracting all the members of the zip  \n",
    "    # into a specific location. \n",
    "    zObject.extractall( \n",
    "        path=\"C:\\\\Users\\\\sai mohan pulamolu\\\\Desktop\\\\geeks_dir\\\\temp\") \n"
   ]
  }
 ],
 "metadata": {
  "kernelspec": {
   "display_name": ".venv",
   "language": "python",
   "name": "python3"
  },
  "language_info": {
   "codemirror_mode": {
    "name": "ipython",
    "version": 3
   },
   "file_extension": ".py",
   "mimetype": "text/x-python",
   "name": "python",
   "nbconvert_exporter": "python",
   "pygments_lexer": "ipython3",
   "version": "3.11.6"
  }
 },
 "nbformat": 4,
 "nbformat_minor": 2
}
