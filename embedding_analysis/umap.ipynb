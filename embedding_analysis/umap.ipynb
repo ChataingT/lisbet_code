{
 "cells": [
  {
   "cell_type": "code",
   "execution_count": 1,
   "metadata": {},
   "outputs": [],
   "source": [
    "import numpy as np\n",
    "import umap\n",
    "from sklearn.cluster import KMeans\n",
    "from sklearn.metrics import silhouette_score\n",
    "import matplotlib.pyplot as plt\n",
    "\n",
    "import os, sys\n",
    "from tqdm.notebook import tqdm\n",
    "sys.path.append(r\"C:\\Users\\chataint\\Documents\\projet\\humanlisbet\\lisbet_code\")\n",
    "from utils import load_embedding\n"
   ]
  },
  {
   "cell_type": "code",
   "execution_count": 2,
   "metadata": {},
   "outputs": [],
   "source": [
    "data_r = r\"C:\\Users\\chataint\\Documents\\projet\\humanlisbet\\results\\bet_embedders\\bet_embedders\\13879972\"\n",
    "seed = 42"
   ]
  },
  {
   "cell_type": "code",
   "execution_count": 3,
   "metadata": {},
   "outputs": [],
   "source": [
    "\n",
    "datapath = os.path.join(data_r, \"embedding_train.numpy\")\n",
    "dataval = os.path.join(data_r, \"embedding_test.numpy\")\n",
    "\n",
    "# Load your temporal encoded data (shape: n_samples, 128 dimensions)\n",
    "train_data =  load_embedding(datapath)# Replace with your data\n",
    "td = train_data.drop(columns='video').to_numpy()\n"
   ]
  },
  {
   "cell_type": "code",
   "execution_count": null,
   "metadata": {},
   "outputs": [],
   "source": [
    "\n",
    "# Step 1: Dimensionality Reduction with UMAP\n",
    "umap_reducer = umap.UMAP(n_components=2)\n",
    "data_umap = umap_reducer.fit_transform(td)"
   ]
  },
  {
   "cell_type": "code",
   "execution_count": null,
   "metadata": {},
   "outputs": [],
   "source": [
    "# Step 2: K-Means Clustering and Finding the Optimal Number of Clusters\n",
    "def kmeans_clustering(data, max_clusters=10, min_clusters=2, step=1):\n",
    "    inertia = []\n",
    "    silhouette = []\n",
    "\n",
    "    for k in tqdm(range(min_clusters, max_clusters + 1, step)):\n",
    "        kmeans = KMeans(n_clusters=k, random_state=seed)\n",
    "        labels = kmeans.fit_predict(data)\n",
    "        inertia.append(kmeans.inertia_)\n",
    "        silhouette.append(silhouette_score(data, labels))\n",
    "    return inertia, silhouette\n",
    "\n",
    "# Run clustering for up to 10 clusters\n",
    "min_clusters = 5\n",
    "max_clusters = 100\n",
    "step=5\n",
    "inertia, silhouette = kmeans_clustering(data_umap, max_clusters, min_clusters, step)"
   ]
  },
  {
   "cell_type": "code",
   "execution_count": null,
   "metadata": {},
   "outputs": [],
   "source": [
    "# Step 3: Plot Inertia and Silhouette Scores\n",
    "fig, ax = plt.subplots(1, 2, figsize=(12, 5))\n",
    "ax[0].plot(range(2, max_clusters + 1), inertia, marker='o')\n",
    "ax[0].set_title(\"Elbow Method (Inertia)\")\n",
    "ax[0].set_xlabel(\"Number of Clusters\")\n",
    "ax[0].set_ylabel(\"Inertia\")\n",
    "\n",
    "ax[1].plot(range(2, max_clusters + 1), silhouette, marker='o')\n",
    "ax[1].set_title(\"Silhouette Score\")\n",
    "ax[1].set_xlabel(\"Number of Clusters\")\n",
    "ax[1].set_ylabel(\"Silhouette Score\")\n",
    "\n",
    "plt.show()"
   ]
  },
  {
   "cell_type": "code",
   "execution_count": null,
   "metadata": {},
   "outputs": [],
   "source": [
    "# Step 4: Visualization of Clusters\n",
    "optimal_clusters = silhouette.index(max(silhouette)) + 2\n",
    "kmeans = KMeans(n_clusters=optimal_clusters, random_state=seed)\n",
    "labels = kmeans.fit_predict(data_umap)\n",
    "\n",
    "plt.scatter(data_umap[:, 0], data_umap[:, 1], c=labels, cmap='viridis', s=10)\n",
    "plt.title(f\"K-Means Clustering on UMAP with {optimal_clusters} Clusters\")\n",
    "plt.xlabel(\"UMAP Component 1\")\n",
    "plt.ylabel(\"UMAP Component 2\")\n",
    "plt.colorbar(label=\"Cluster Label\")\n",
    "plt.show()\n"
   ]
  }
 ],
 "metadata": {
  "kernelspec": {
   "display_name": "diffversify",
   "language": "python",
   "name": "python3"
  },
  "language_info": {
   "codemirror_mode": {
    "name": "ipython",
    "version": 3
   },
   "file_extension": ".py",
   "mimetype": "text/x-python",
   "name": "python",
   "nbconvert_exporter": "python",
   "pygments_lexer": "ipython3",
   "version": "3.8.19"
  }
 },
 "nbformat": 4,
 "nbformat_minor": 2
}
