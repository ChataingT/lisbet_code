{
 "cells": [
  {
   "cell_type": "code",
   "execution_count": 1,
   "id": "18b3b129-fd9a-4f38-8980-7b2ecfaefa8a",
   "metadata": {},
   "outputs": [],
   "source": [
    "from pca_spectral_ana import main"
   ]
  },
  {
   "cell_type": "code",
   "execution_count": 2,
   "id": "6bb2ebf8-0b94-4a81-9c29-e82dd7417edc",
   "metadata": {},
   "outputs": [
    {
     "name": "stderr",
     "output_type": "stream",
     "text": [
      "2024-12-19 14:24:07,244 - INFO     : Running PCA\n",
      "2024-12-19 14:24:07,592 - INFO     : Running KMeans clustering\n",
      " 50%|██████████████████████████████████████████▌                                          | 1/2 [00:00<00:00,  6.90it/s]"
     ]
    },
    {
     "name": "stdout",
     "output_type": "stream",
     "text": [
      "[I] [14:24:07.595089] Unused keyword parameter: batch_size during cuML estimator initialization\n",
      "[I] [14:24:07.740887] Unused keyword parameter: batch_size during cuML estimator initialization\n"
     ]
    },
    {
     "name": "stderr",
     "output_type": "stream",
     "text": [
      "100%|█████████████████████████████████████████████████████████████████████████████████████| 2/2 [00:00<00:00,  9.01it/s]\n",
      "2024-12-19 14:24:08,363 - INFO     : Elbow and Silhouette plots saved to disk\n",
      "2024-12-19 14:24:08,364 - INFO     : Visualizing Clusters\n",
      "2024-12-19 14:24:08,459 - INFO     : Optimal number of clusters: 2\n"
     ]
    },
    {
     "name": "stdout",
     "output_type": "stream",
     "text": [
      "[I] [14:24:08.365084] Unused keyword parameter: batch_size during cuML estimator initialization\n"
     ]
    },
    {
     "name": "stderr",
     "output_type": "stream",
     "text": [
      "2024-12-19 14:24:08,773 - INFO     : Into spectral study.\n",
      "/opt/conda/lib/python3.12/site-packages/sklearn/manifold/_spectral_embedding.py:329: UserWarning: Graph is not fully connected, spectral embedding may not work as expected.\n",
      "  warnings.warn(\n",
      "/opt/conda/lib/python3.12/site-packages/sklearn/manifold/_spectral_embedding.py:329: UserWarning: Graph is not fully connected, spectral embedding may not work as expected.\n",
      "  warnings.warn(\n",
      "2024-12-19 14:24:09,251 - INFO     : Silhouette Score - training data: 0.48767352174178313\n",
      "2024-12-19 14:24:09,252 - INFO     : Silhouette Score - eval data: 0.3513684929307306\n",
      "2024-12-19 14:24:09,547 - INFO     : Spectral Clustering completed\n"
     ]
    }
   ],
   "source": [
    "    argument = [\"--input\", r\"/home/rapids/notebooks/bet_embedders/13879972\", \n",
    "                \"--output\", r\"/home/rapids/notebooks/test\",\n",
    "                \"--min_clusters\", \"5\",\n",
    "                \"--max_clusters\", \"10\",\n",
    "                \"--step\", \"5\",\n",
    "                \"--batch_size\", \"4096\",\n",
    "                \"--max_iter\", \"10\",\n",
    "                \"--debug\"]\n",
    "    main(argument) "
   ]
  },
  {
   "cell_type": "code",
   "execution_count": null,
   "id": "befb1973-df19-459e-aba8-8d25a2e95243",
   "metadata": {},
   "outputs": [],
   "source": []
  }
 ],
 "metadata": {
  "kernelspec": {
   "display_name": "Python 3 (ipykernel)",
   "language": "python",
   "name": "python3"
  },
  "language_info": {
   "codemirror_mode": {
    "name": "ipython",
    "version": 3
   },
   "file_extension": ".py",
   "mimetype": "text/x-python",
   "name": "python",
   "nbconvert_exporter": "python",
   "pygments_lexer": "ipython3",
   "version": "3.12.7"
  }
 },
 "nbformat": 4,
 "nbformat_minor": 5
}
