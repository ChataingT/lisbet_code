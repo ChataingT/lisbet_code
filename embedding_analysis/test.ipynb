{
 "cells": [
  {
   "cell_type": "code",
   "execution_count": 1,
   "id": "18b3b129-fd9a-4f38-8980-7b2ecfaefa8a",
   "metadata": {},
   "outputs": [],
   "source": [
    "from pca_spectral_ana import main"
   ]
  },
  {
   "cell_type": "code",
   "execution_count": null,
   "id": "6bb2ebf8-0b94-4a81-9c29-e82dd7417edc",
   "metadata": {},
   "outputs": [],
   "source": [
    "    argument = [\"--input\", r\"/home/rapids/notebooks/bet_embedders/13879972\", \n",
    "                \"--output\", r\"/home/rapids/notebooks/test\",\n",
    "                \"--min_clusters\", \"5\",\n",
    "                \"--max_clusters\", \"10\",\n",
    "                \"--step\", \"5\",\n",
    "                \"--batch_size\", \"4096\",\n",
    "                \"--max_iter\", \"10\",\n",
    "                \"--debug\"]\n",
    "    main(argument) "
   ]
  },
  {
   "cell_type": "code",
   "execution_count": null,
   "id": "befb1973-df19-459e-aba8-8d25a2e95243",
   "metadata": {},
   "outputs": [],
   "source": []
  }
 ],
 "metadata": {
  "kernelspec": {
   "display_name": "Python 3 (ipykernel)",
   "language": "python",
   "name": "python3"
  },
  "language_info": {
   "codemirror_mode": {
    "name": "ipython",
    "version": 3
   },
   "file_extension": ".py",
   "mimetype": "text/x-python",
   "name": "python",
   "nbconvert_exporter": "python",
   "pygments_lexer": "ipython3",
   "version": "3.12.7"
  }
 },
 "nbformat": 4,
 "nbformat_minor": 5
}
