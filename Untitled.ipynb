{
 "cells": [
  {
   "cell_type": "code",
   "execution_count": 1,
   "id": "831705fa-dbef-48cf-aece-453752498153",
   "metadata": {},
   "outputs": [],
   "source": [
    "import zipfile\n",
    "import os\n",
    "\n",
    "def zip_folder(folder_path, output_path):\n",
    "    # Create a ZipFile object in write mode\n",
    "    with zipfile.ZipFile(output_path, 'w', zipfile.ZIP_DEFLATED) as zipf:\n",
    "        # Walk through all the files and folders within the directory\n",
    "        for root, _, files in os.walk(folder_path):\n",
    "            for file in files:\n",
    "                # Create the full file path\n",
    "                file_path = os.path.join(root, file)\n",
    "                # Add the file to the zip archive\n",
    "                zipf.write(file_path, os.path.relpath(file_path, folder_path))\n",
    "\n"
   ]
  },
  {
   "cell_type": "code",
   "execution_count": 2,
   "id": "ffb3aaf0-7c51-41d1-b41b-5ca57d5a91a8",
   "metadata": {},
   "outputs": [],
   "source": [
    "# Usage example\n",
    "folder_to_zip = './bet_fits'      # Replace with the path to the folder you want to zip\n",
    "output_zip_file = 'bet_fits.zip'        # Replace with the desired output zip file name\n",
    "zip_folder(folder_to_zip, output_zip_file)"
   ]
  }
 ],
 "metadata": {
  "kernelspec": {
   "display_name": "Python 3 (ipykernel)",
   "language": "python",
   "name": "python3"
  },
  "language_info": {
   "codemirror_mode": {
    "name": "ipython",
    "version": 3
   },
   "file_extension": ".py",
   "mimetype": "text/x-python",
   "name": "python",
   "nbconvert_exporter": "python",
   "pygments_lexer": "ipython3",
   "version": "3.8.10"
  }
 },
 "nbformat": 4,
 "nbformat_minor": 5
}
