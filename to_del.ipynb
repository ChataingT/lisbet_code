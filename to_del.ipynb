{
 "cells": [
  {
   "cell_type": "code",
   "execution_count": 5,
   "metadata": {},
   "outputs": [],
   "source": [
    "from PIL import Image\n"
   ]
  },
  {
   "cell_type": "code",
   "execution_count": 10,
   "metadata": {},
   "outputs": [],
   "source": [
    "p= r\"C:\\Users\\chataint\\Downloads\\inverted_4k_logo.png\"\n",
    "output_path = r\"C:\\Users\\chataint\\Downloads\\threshold_image.png\"  # Replace with the desired output path\n"
   ]
  },
  {
   "cell_type": "code",
   "execution_count": 8,
   "metadata": {},
   "outputs": [],
   "source": [
    "im = Image.open(p) "
   ]
  },
  {
   "cell_type": "code",
   "execution_count": 11,
   "metadata": {},
   "outputs": [
    {
     "name": "stdout",
     "output_type": "stream",
     "text": [
      "Thresholded image saved to C:\\Users\\chataint\\Downloads\\threshold_image.png\n"
     ]
    }
   ],
   "source": [
    "\n",
    "# Open the image and convert it to grayscale\n",
    "image = Image.open(p).convert(\"L\")  # Convert to grayscale\n",
    "\n",
    "# Apply a threshold\n",
    "threshold_value = 128  # Adjust this value as needed\n",
    "thresholded_image = image.point(lambda p: 255 if p > threshold_value else 0)\n",
    "\n",
    "# Save the thresholded image\n",
    "thresholded_image.save(output_path)\n",
    "\n",
    "print(f\"Thresholded image saved to {output_path}\")"
   ]
  }
 ],
 "metadata": {
  "kernelspec": {
   "display_name": "diffversify",
   "language": "python",
   "name": "python3"
  },
  "language_info": {
   "codemirror_mode": {
    "name": "ipython",
    "version": 3
   },
   "file_extension": ".py",
   "mimetype": "text/x-python",
   "name": "python",
   "nbconvert_exporter": "python",
   "pygments_lexer": "ipython3",
   "version": "3.8.19"
  }
 },
 "nbformat": 4,
 "nbformat_minor": 2
}
